{
 "cells": [
  {
   "cell_type": "markdown",
   "id": "a4377732-63f8-4d04-9786-83f70237b532",
   "metadata": {},
   "source": [
    "## RECOMENDACIÓN 1"
   ]
  },
  {
   "cell_type": "code",
   "execution_count": 3,
   "id": "b6bd11dc-9ee8-459f-b168-3f88ee4b1d0a",
   "metadata": {},
   "outputs": [
    {
     "name": "stdout",
     "output_type": "stream",
     "text": [
      "El resultado para 1 procesos es 24935.519579238116\n",
      "Tiempo total para 1 procesos: 0.008270 segundos\n",
      "\n",
      "El resultado para 2 procesos es 24935.519579238062\n",
      "Tiempo total para 2 procesos: 0.005313 segundos\n",
      "\n",
      "El resultado para 4 procesos es 24935.519579237967\n",
      "Tiempo total para 4 procesos: 0.003752 segundos\n",
      "\n"
     ]
    }
   ],
   "source": [
    "import numpy as np\n",
    "from multiprocessing import Pool\n",
    "import time\n",
    "import argparse\n",
    "\n",
    "# Procesar argumentos desde la línea de comandos\n",
    "parser = argparse.ArgumentParser(description=\"Ejecutar reducción de array en paralelo\")\n",
    "parser.add_argument(\"--value\", type=int, default=5 * 10**4, help=\"Número de elementos en el array\")\n",
    "args = parser.parse_args()\n",
    "\n",
    "# Crear un array aleatorio basado en el argumento `value`\n",
    "value = args.value\n",
    "X = np.random.rand(value)\n",
    "\n",
    "# Función para sumar subrangos de un array\n",
    "def sum_multiprocessing(A, ini, fin):\n",
    "    \"\"\"Compute the sum of the elements of Array A in the range [ini, fin).\"\"\"\n",
    "    s = 0\n",
    "    for i in range(ini, fin):\n",
    "        s += A[i]\n",
    "    return s\n",
    "\n",
    "# Definir los subrangos\n",
    "rango1 = [(X, 0, value)]\n",
    "rango2 = [(X, 0, value // 2), (X, value // 2, value)]\n",
    "rango3 = [\n",
    "    (X, 0, value // 4),\n",
    "    (X, value // 4, value // 2),\n",
    "    (X, value // 2, 3 * value // 4),\n",
    "    (X, 3 * value // 4, value),\n",
    "]\n",
    "rangos = {1: rango1, 2: rango2, 4: rango3}\n",
    "\n",
    "# Ejecutar las operaciones en paralelo\n",
    "def calculo(lista_rangos):\n",
    "    with Pool() as pool:\n",
    "        for clave, valor in lista_rangos.items():\n",
    "            start = time.time()\n",
    "            resultado = sum(pool.starmap(sum_multiprocessing, valor))\n",
    "            end = time.time()\n",
    "            print(f\"El resultado para {clave} procesos es {resultado}\")\n",
    "            print(f\"Tiempo total para {clave} procesos: {end - start:.6f} segundos\\n\")\n",
    "\n",
    "# Ejecutar la función principal\n",
    "if __name__ == \"__main__\":\n",
    "    calculo(rangos)"
   ]
  },
  {
   "cell_type": "markdown",
   "id": "17d3d8fa-e62d-4d90-83f3-773637fec96e",
   "metadata": {},
   "source": [
    "## OUTPUT:\n",
    "\n",
    "Ejecutamos el script extra con value = 10000000\n",
    "Time taken by reduction operation using a function: 932 ms ± 850 µs per loop (me\n",
    "an ± std. dev. of 2 runs, 1 loop each)\n",
    "And the result of the sum of numbers in the range [0, value) is: 5000213.0238805\n",
    "85\n",
    "\n",
    "Time taken by reduction operation using numpy.sum(): 3.8 ms ± 12.2 µs per loop (\n",
    "mean ± std. dev. of 2 runs, 100 loops each)\n",
    "Now, the result using numpy.sum(): 5000213.023880381 \n",
    " \n",
    "Time taken by reduction operation using numpy.ndarray.sum(): 3.77 ms ± 6.16 µs p\n",
    "er loop (mean ± std. dev. of 2 runs, 100 loops each)\n",
    "Now, the result using numpy.ndarray.sum(): 5000213.023880381\n",
    "El resultado para 1 procesos es 5000213.023880585\n",
    "Con un tiempo total de: 1.023877 segundos\n",
    "El resultado para 2 procesos es 5000213.023880376\n",
    "Con un tiempo total de: 0.620661 segundos\n",
    "El resultado para 4 procesos es 5000213.0238804575\n",
    "Con un tiempo total de: 0.512883 segundos\n",
    "\n",
    "## CONCLUSIONES\n",
    "\n",
    "1. **Secuencial (`reduc_operation`)**:\n",
    "   - Es extremadamente lento para datos grandes (~932 ms), debido al uso ineficiente de bucles en Python puro.\n",
    "   - No es práctico para tareas con grandes volúmenes de datos.\n",
    "\n",
    "2. **NumPy (`numpy.sum` y `numpy.ndarray.sum`)**:\n",
    "   - Altamente eficiente (~3.8 ms), aprovechando operaciones vectorizadas en CPU.\n",
    "   - Es la solución más rápida y sencilla para realizar sumas en arrays grandes en CPU.\n",
    "\n",
    "3. **Multiprocessing (`starmap`)**:\n",
    "   - Escalable: Con 2 procesos, el tiempo mejora significativamente (~0.62 s), y con 4 procesos, sigue reduciéndose (~0.51 s).\n",
    "   - La sobrecarga de `Pool` hace que 1 proceso sea menos eficiente que el secuencial.\n",
    "   - Adecuado para aprovechar múltiples núcleos en tareas con datos grandes.\n",
    "\n",
    "### Recomendaciones\n",
    "- Usar **NumPy** para operaciones en CPU, especialmente en tareas pequeñas o medianas.\n",
    "- Usar **Multiprocessing** con 2 o 4 procesos para aprovechar paralelismo en datos grandes.\n",
    "- Evitar implementaciones secuenciales para aplicaciones prácticas.\n"
   ]
  },
  {
   "cell_type": "code",
   "execution_count": null,
   "id": "a26ac629-f226-4a6f-a8d2-b9874fbc6d66",
   "metadata": {},
   "outputs": [],
   "source": []
  }
 ],
 "metadata": {
  "kernelspec": {
   "display_name": "Python 3 (ipykernel)",
   "language": "python",
   "name": "python3"
  },
  "language_info": {
   "codemirror_mode": {
    "name": "ipython",
    "version": 3
   },
   "file_extension": ".py",
   "mimetype": "text/x-python",
   "name": "python",
   "nbconvert_exporter": "python",
   "pygments_lexer": "ipython3",
   "version": "3.8.17"
  }
 },
 "nbformat": 4,
 "nbformat_minor": 5
}
