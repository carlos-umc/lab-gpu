{
 "cells": [
  {
   "cell_type": "markdown",
   "id": "f942d288-be01-42cd-9b84-83529c6769be",
   "metadata": {},
   "source": [
    "## Reduction operation: the sum of the numbers in the range [0, value)"
   ]
  },
  {
   "cell_type": "code",
   "execution_count": 1,
   "id": "496946fa-2a28-4c1d-8a6a-2ee0b8fd8ced",
   "metadata": {
    "scrolled": true
   },
   "outputs": [
    {
     "name": "stdout",
     "output_type": "stream",
     "text": [
      "Time taken by reduction operation using a function: 45.7 ms ± 742 µs per loop (mean ± std. dev. of 2 runs, 10 loops each)\n",
      "And the result of the sum of numbers in the range [0, value) is: 24959.88879934843\n",
      "\n",
      "Time taken by reduction operation using numpy.sum(): 95.6 µs ± 107 ns per loop (mean ± std. dev. of 2 runs, 10,000 loops each)\n",
      "Now, the result using numpy.sum(): 24959.88879934858 \n",
      " \n",
      "Time taken by reduction operation using numpy.ndarray.sum(): 72.5 µs ± 116 ns per loop (mean ± std. dev. of 2 runs, 10,000 loops each)\n",
      "Now, the result using numpy.ndarray.sum(): 24959.88879934858\n"
     ]
    }
   ],
   "source": [
    "import numpy as np\n",
    "import sys\n",
    "\n",
    "def reduc_operation(A):\n",
    "    \"\"\"Compute the sum of the elements of Array A in the range [0, value).\"\"\"\n",
    "    s = 0\n",
    "    for i in range(A.size):\n",
    "        s += A[i]\n",
    "    return s\n",
    "\n",
    "# Secuencial\n",
    "value = int(sys.argv[1])\n",
    "X = np.random.rand(value)\n",
    "\n",
    "# Para imprimir los pimeros valores del array\n",
    "# print(X[0:12])\n",
    "\n",
    "# Utilizando las operaciones mágicas de ipython\n",
    "tiempo = %timeit -r 2 -o -q reduc_operation(X)\n",
    "print(\"Time taken by reduction operation using a function:\", tiempo)\n",
    "print(f\"And the result of the sum of numbers in the range [0, value) is: {reduc_operation(X)}\\n\")\n",
    "\n",
    "\n",
    "# Utilizando numpy.sum()\n",
    "tiempo = %timeit -r 2 -o -q np.sum(X)\n",
    "print(\"Time taken by reduction operation using numpy.sum():\", tiempo)\n",
    "print(\"Now, the result using numpy.sum():\", np.sum(X),\"\\n \")\n",
    "\n",
    "\n",
    "# Utilizando numpy.ndarray.sum()\n",
    "tiempo= %timeit -r 2 -o -q X.sum()\n",
    "print(\"Time taken by reduction operation using numpy.ndarray.sum():\", tiempo)\n",
    "print(\"Now, the result using numpy.ndarray.sum():\", X.sum())"
   ]
  },
  {
   "cell_type": "markdown",
   "id": "32417d71-7269-49dd-b2bf-95a1eb74e22c",
   "metadata": {},
   "source": [
    "## APARTADO 3.2 a) Librería multiprocessing"
   ]
  },
  {
   "cell_type": "code",
   "execution_count": 2,
   "id": "c88eb755-7f66-4c7e-8d73-13d5e2fc1a4f",
   "metadata": {},
   "outputs": [
    {
     "name": "stdout",
     "output_type": "stream",
     "text": [
      "Tiempo con un único proceso: 51.1 ms ± 232 µs per loop (mean ± std. dev. of 2 runs, 10 loops each)\n",
      "Tiempo con dos procesos: 30.4 ms ± 1.06 ms per loop (mean ± std. dev. of 2 runs, 10 loops each)\n",
      "Tiempo con cuatro procesos: 29.8 ms ± 13.2 µs per loop (mean ± std. dev. of 2 runs, 10 loops each)\n"
     ]
    }
   ],
   "source": [
    "from multiprocessing import Pool\n",
    "\n",
    "if __name__ == \"__main__\":\n",
    "    # Primera prueba: utilizando un único proceso\n",
    "    with Pool(processes=1) as pool:\n",
    "        time_single = %timeit -r 2 -o -q pool.map(reduc_operation, [X])\n",
    "        print(\"Tiempo con un único proceso:\", time_single)\n",
    "        \n",
    "    # Segunda prueba: utilizando dos procesos\n",
    "    with Pool(processes=2) as pool:\n",
    "        # Dividimos el array en dos partes\n",
    "        split_array_2 = [X[:int(value/2)], X[int(value/2):]]\n",
    "        time_two = %timeit -r 2 -o -q pool.map(reduc_operation, split_array_2)\n",
    "        print(\"Tiempo con dos procesos:\", time_two)\n",
    "                                          \n",
    "    # Tercera prueba: utilizando cuatro procesos\n",
    "    with Pool(processes=4) as pool:\n",
    "        # Dividimos el array en cuatro partes\n",
    "        split_array_4 = [X[:int(value/4)], X[int(value/4):int(value/2)], X[int(value/2):int(3*value/4)], X[int(3*value/4):]]\n",
    "        time_four = %timeit -r 2 -o -q pool.map(reduc_operation, split_array_4)\n",
    "        print(\"Tiempo con cuatro procesos:\", time_four)\n"
   ]
  },
  {
   "cell_type": "markdown",
   "id": "87d9643f-5025-4e6d-a81e-58ffc28fcfc6",
   "metadata": {},
   "source": [
    "## APARTADO 3.2 b) Librería Numba"
   ]
  },
  {
   "cell_type": "code",
   "execution_count": 3,
   "id": "f573e9d3-5a61-4e50-b370-b6fb4b1d1482",
   "metadata": {},
   "outputs": [
    {
     "name": "stdout",
     "output_type": "stream",
     "text": [
      "Tiempo con njit (sin paralelismo): 236 µs ± 17.1 µs per loop (mean ± std. dev. of 2 runs, 1 loop each)\n",
      "Tiempo con njit y paralelismo: 72.1 ms ± 64.3 ms per loop (mean ± std. dev. of 2 runs, 1 loop each)\n"
     ]
    }
   ],
   "source": [
    "from numba import njit, prange\n",
    "\n",
    "# Primera implementación de la función con njit\n",
    "@njit\n",
    "def compute_sum_njit(array):\n",
    "    \"\"\"Sum the elements of the array from index 0 to value.\"\"\"\n",
    "    total = 0\n",
    "    for idx in range(array.size):\n",
    "        total += array[idx]\n",
    "    return total\n",
    "\n",
    "# Medimos el tiempo para la versión secuencial\n",
    "tiempo_secuencial = %timeit -r 2 -o -q compute_sum_njit(X)\n",
    "print(\"Tiempo con njit (sin paralelismo):\", tiempo_secuencial)\n",
    "\n",
    "# Segunda implementación de la función con njit y paralelismo\n",
    "@njit(parallel=True)\n",
    "def compute_sum_njit_parallel(array):\n",
    "    \"\"\"Sum the elements of the array using parallel execution.\"\"\"\n",
    "    total = 0\n",
    "    for idx in prange(array.size):\n",
    "        total += array[idx]\n",
    "    return total\n",
    "\n",
    "# Medimos el tiempo para la versión paralela\n",
    "tiempo_parallel = %timeit -r 2 -o -q compute_sum_njit_parallel(X)\n",
    "print(\"Tiempo con njit y paralelismo:\", tiempo_parallel)\n"
   ]
  },
  {
   "cell_type": "markdown",
   "id": "853c51b7-6e23-44fb-aaf3-43fb8581c68e",
   "metadata": {},
   "source": [
    "## APARTADO 3.2 d) Comentarios\n",
    "\n",
    "OUTPUT:\n",
    "\n",
    "Ejecutando el notebook con 50000000 elementos\n",
    "Time taken by reduction operation using a function: 45 s ± 70.2 ms per loop (mea\n",
    "n ± std. dev. of 2 runs, 1 loop each)\n",
    "And the result of the sum of numbers in the range [0, value) is: 25004901.471310124\n",
    "Time taken by reduction operation using numpy.sum(): 59.7 ms ± 323 µs per loop (\n",
    "mean ± std. dev. of 2 runs, 10 loops each)\n",
    "Now, the result using numpy.sum(): 25004901.47130974 \n",
    "Time taken by reduction operation using numpy.ndarray.sum(): 60.5 ms ± 480 µs pe\n",
    "r loop (mean ± std. dev. of 2 runs, 10 loops each)\n",
    "Now, the result using numpy.ndarray.sum(): 25004901.47130974\n",
    "\n",
    "Tiempo con un único proceso: 49.4 s ± 81 ms per loop (mean ± std. dev. of 2 runs\n",
    ", 1 loop each)\n",
    "Tiempo con dos procesos: 25.7 s ± 6.19 ms per loop (mean ± std. dev. of 2 runs, \n",
    "1 loop each)\n",
    "Tiempo con cuatro procesos: 13.3 s ± 7.22 ms per loop (mean ± std. dev. of 2 run\n",
    "s, 1 loop each)\n",
    "\n",
    "Tiempo con njit (sin paralelismo): 208 ms ± 2 ms per loop (mean ± std. dev. of 2\n",
    " runs, 1 loop each)\n",
    "Tiempo con njit y paralelismo: 14.1 ms ± 2 ms per loop (mean ± std. dev. of 2 ru\n",
    "ns, 1 loop each)\n",
    "\n",
    "Los resultados muestran que el uso de multiprocessing permite reducir el tiempo de ejecución conforme se aumenta el número de procesos, aproximadamente a la mitad al duplicar los procesos, lo cual es esperado debido a la naturaleza del paralelismo en datos. Sin embargo, hay una ligera sobrecarga inicial al manejar los procesos.\n",
    "\n",
    "Por otro lado, Numba demuestra ser significativamente más rápido que multiprocessing, tanto en su versión secuencial como paralela. La versión paralela logra una pequeña mejora respecto a la secuencial.\n",
    "\n",
    "En conclusión, Numba es la opción más eficiente para este problema, mientras que multiprocessing ofrece flexibilidad al aprovechar múltiples núcleos."
   ]
  },
  {
   "cell_type": "code",
   "execution_count": null,
   "id": "6346bce4-1b46-4ead-9211-e827ab5c7b30",
   "metadata": {},
   "outputs": [],
   "source": []
  }
 ],
 "metadata": {
  "kernelspec": {
   "display_name": "Python 3 (ipykernel)",
   "language": "python",
   "name": "python3"
  },
  "language_info": {
   "codemirror_mode": {
    "name": "ipython",
    "version": 3
   },
   "file_extension": ".py",
   "mimetype": "text/x-python",
   "name": "python",
   "nbconvert_exporter": "python",
   "pygments_lexer": "ipython3",
   "version": "3.10.9"
  }
 },
 "nbformat": 4,
 "nbformat_minor": 5
}
