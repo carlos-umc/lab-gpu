{
 "cells": [
  {
   "cell_type": "markdown",
   "id": "f942d288-be01-42cd-9b84-83529c6769be",
   "metadata": {},
   "source": [
    "## Reduction operation: the sum of the numbers in the range [0, value)"
   ]
  },
  {
   "cell_type": "code",
   "execution_count": 5,
   "id": "496946fa-2a28-4c1d-8a6a-2ee0b8fd8ced",
   "metadata": {},
   "outputs": [
    {
     "name": "stdout",
     "output_type": "stream",
     "text": [
      "Time taken by reduction operation using a function: 5.2 ms ± 231 µs per loop (mean ± std. dev. of 2 runs, 100 loops each)\n",
      "And the result of the sum of numbers in the range [0, value) is: 24873.067406323546\n",
      "\n",
      "Time taken by reduction operation using numpy.sum(): 14.8 µs ± 11.8 ns per loop (mean ± std. dev. of 2 runs, 100,000 loops each)\n",
      "Now, the result using numpy.sum(): 24873.06740632327 \n",
      " \n",
      "Time taken by reduction operation using numpy.ndarray.sum(): 12.5 µs ± 17.9 ns per loop (mean ± std. dev. of 2 runs, 100,000 loops each)\n",
      "Now, the result using numpy.ndarray.sum(): 24873.06740632327\n"
     ]
    }
   ],
   "source": [
    "import numpy as np\n",
    "import sys\n",
    "import cupy as cp\n",
    "import time\n",
    "\n",
    "def reduc_operation(A):\n",
    "    \"\"\"Compute the sum of the elements of Array A in the range [0, value).\"\"\"\n",
    "    s = 0\n",
    "    for i in range(A.size):\n",
    "        s += A[i]\n",
    "    return s\n",
    "\n",
    "# Secuencial\n",
    "value = int(sys.argv[1])\n",
    "X = np.random.rand(value)\n",
    "\n",
    "# Para imprimir los primeros valores del array\n",
    "# print(X[0:12])\n",
    "\n",
    "# Utilizando las operaciones mágicas de ipython\n",
    "tiempo = %timeit -r 2 -o -q reduc_operation(X)\n",
    "print(\"Time taken by reduction operation using a function:\", tiempo)\n",
    "print(f\"And the result of the sum of numbers in the range [0, value) is: {reduc_operation(X)}\\n\")\n",
    "\n",
    "# Utilizando numpy.sum(\n",
    "tiempo = %timeit -r 2 -o -q np.sum(X)\n",
    "print(\"Time taken by reduction operation using numpy.sum():\", tiempo)\n",
    "print(\"Now, the result using numpy.sum():\", np.sum(X),\"\\n \")\n",
    "\n",
    "# Utilizando numpy.ndarray.sum()\n",
    "tiempo= %timeit -r 2 -o -q X.sum()\n",
    "print(\"Time taken by reduction operation using numpy.ndarray.sum():\", tiempo)\n",
    "print(\"Now, the result using numpy.ndarray.sum():\", X.sum())"
   ]
  },
  {
   "cell_type": "markdown",
   "id": "dd90cfd6-d5ae-4840-8fdd-e195ddc3d75c",
   "metadata": {},
   "source": [
    "## APARTADO 3.3 a)"
   ]
  },
  {
   "cell_type": "code",
   "execution_count": 10,
   "id": "09f61641-a065-4bab-85c7-5562f580ee79",
   "metadata": {},
   "outputs": [
    {
     "name": "stdout",
     "output_type": "stream",
     "text": [
      "El tiempo utilizando cp.sum medido con time.time() es 0.00020456314086914062 segundos\n",
      "\n",
      "Tiempo empleado por la operación de reducción utilizando cp.sum y %timeit(): 17.2 µs ± 26.7 ns per loop (mean ± std. dev. of 2 runs, 100,000 loops each)\n",
      "Ahora, el resultado utilizando cp.sum(): 25027.632934017005 \n",
      "\n"
     ]
    }
   ],
   "source": [
    "import cupy as cp  # Importamos Cupy\n",
    "import time\n",
    "\n",
    "# Generamos un array aleatorio en la GPU utilizando cupy.random\n",
    "X = cp.random.rand(value)\n",
    "\n",
    "# Medimos el tiempo de cp.sum usando time.time()\n",
    "start_time = time.time()\n",
    "a = cp.sum(X)\n",
    "end_time = time.time()\n",
    "\n",
    "print(f\"El tiempo utilizando cp.sum medido con time.time() es {end_time - start_time} segundos\")\n",
    "\n",
    "# Usamos %timeit para medir el tiempo de ejecución de cp.sum\n",
    "execution_time = %timeit -r 2 -o -q cp.sum(X)\n",
    "\n",
    "print(\"\\nTiempo empleado por la operación de reducción utilizando cp.sum y %timeit():\", execution_time)\n",
    "print(\"Ahora, el resultado utilizando cp.sum():\", cp.sum(X), \"\\n\")\n",
    "\n"
   ]
  },
  {
   "cell_type": "markdown",
   "id": "da3e2505-0732-42ca-a632-9253cac2cbe8",
   "metadata": {},
   "source": [
    "## APARTADO 3.3 d) \n",
    "\n",
    "## OUTPUT:\n",
    "\n",
    "Ejecutamos el script de reducción para value = 5000000\n",
    "Time taken by reduction operation using a function: 433 ms ± 832 µs per loop (me\n",
    "an ± std. dev. of 2 runs, 1 loop each)\n",
    "And the result of the sum of numbers in the range [0, value) is: 2499835.6728516\n",
    "663\n",
    "\n",
    "Time taken by reduction operation using numpy.sum(): 1.8 ms ± 106 ns per loop (m\n",
    "ean ± std. dev. of 2 runs, 1,000 loops each)\n",
    "Now, the result using numpy.sum(): 2499835.672851525 \n",
    " \n",
    "Time taken by reduction operation using numpy.ndarray.sum(): 1.79 ms ± 19.1 ns p\n",
    "er loop (mean ± std. dev. of 2 runs, 1,000 loops each)\n",
    "Now, the result using numpy.ndarray.sum(): 2499835.672851525\n",
    "El tiempo utilizando cp.sum medido con time.time() es 0.008644819259643555 segun\n",
    "dos\n",
    "\n",
    "Tiempo empleado por la operación de reducción utilizando cp.sum y %timeit(): 155\n",
    " µs ± 0.311 ns per loop (mean ± std. dev. of 2 runs, 10,000 loops each)\n",
    "Ahora, el resultado utilizando cp.sum(): 2500257.4883779464 \n",
    "\n",
    "Ejecutamos el script de reducción para value = 50000000\n",
    "Time taken by reduction operation using a function: 4.33 s ± 2.08 ms per loop (m\n",
    "ean ± std. dev. of 2 runs, 1 loop each)\n",
    "And the result of the sum of numbers in the range [0, value) is: 24999068.158428\n",
    "125\n",
    "\n",
    "Time taken by reduction operation using numpy.sum(): 18.9 ms ± 2.56 µs per loop \n",
    "(mean ± std. dev. of 2 runs, 100 loops each)\n",
    "Now, the result using numpy.sum(): 24999068.158425972 \n",
    " \n",
    "Time taken by reduction operation using numpy.ndarray.sum(): 18.9 ms ± 6.05 µs p\n",
    "er loop (mean ± std. dev. of 2 runs, 100 loops each)\n",
    "Now, the result using numpy.ndarray.sum(): 24999068.158425972\n",
    "El tiempo utilizando cp.sum medido con time.time() es 0.009028196334838867 segun\n",
    "dos\n",
    "\n",
    "Tiempo empleado por la operación de reducción utilizando cp.sum y %timeit(): 1.4\n",
    "9 ms ± 29.8 ns per loop (mean ± std. dev. of 2 runs, 1,000 loops each)\n",
    "Ahora, el resultado utilizando cp.sum(): 24999222.600845523 \n",
    "\n",
    "Ejecutamos el script de reducción para value = 500000000\n",
    "Time taken by reduction operation using a function: 43 s ± 15.5 ms per loop (mea\n",
    "n ± std. dev. of 2 runs, 1 loop each)\n",
    "And the result of the sum of numbers in the range [0, value) is: 250006375.91254\n",
    "255\n",
    "\n",
    "Time taken by reduction operation using numpy.sum(): 195 ms ± 155 µs per loop (m\n",
    "ean ± std. dev. of 2 runs, 1 loop each)\n",
    "Now, the result using numpy.sum(): 250006375.91250515 \n",
    " \n",
    "Time taken by reduction operation using numpy.ndarray.sum(): 195 ms ± 154 µs per\n",
    " loop (mean ± std. dev. of 2 runs, 10 loops each)\n",
    "Now, the result using numpy.ndarray.sum(): 250006375.91250515\n",
    "El tiempo utilizando cp.sum medido con time.time() es 0.014815330505371094 segun\n",
    "dos\n",
    "\n",
    "Tiempo empleado por la operación de reducción utilizando cp.sum y %timeit(): 14.\n",
    "9 ms ± 1.53 µs per loop (mean ± std. dev. of 2 runs, 1,000 loops each)\n",
    "Ahora, el resultado utilizando cp.sum(): 249994488.19692183 \n",
    "\n",
    "## CONCLUSIONES\n",
    "\n",
    "1. **Secuencial (`reduc_operation`)**:\n",
    "   - Es extremadamente ineficiente para datos grandes, con tiempos lineales que escalan muy mal.\n",
    "\n",
    "2. **NumPy (`numpy.sum` y `numpy.ndarray.sum`)**:\n",
    "   - Muy eficiente, aprovecha optimizaciones internas de la CPU.\n",
    "   - Ideal para tamaños pequeños y medianos de arrays.\n",
    "\n",
    "3. **CuPy (`cp.sum`)**:\n",
    "   - Es la opción más rápida para datos grandes gracias al paralelismo masivo de las GPUs.\n",
    "   - Supera a NumPy en rendimiento para tamaños masivos de arrays.\n",
    "\n",
    "4. **Recomendaciones**:\n",
    "   - Usar **NumPy** para operaciones en CPU.\n",
    "   - Usar **CuPy** si se dispone de GPU para datos masivos.\n",
    "   - Evitar implementaciones secuenciales para cualquier caso práctico.\n",
    "\n"
   ]
  },
  {
   "cell_type": "code",
   "execution_count": null,
   "id": "972e5abb-39c7-4074-860c-aa2d9fe0f2fa",
   "metadata": {},
   "outputs": [],
   "source": []
  }
 ],
 "metadata": {
  "kernelspec": {
   "display_name": "Python 3 (ipykernel)",
   "language": "python",
   "name": "python3"
  },
  "language_info": {
   "codemirror_mode": {
    "name": "ipython",
    "version": 3
   },
   "file_extension": ".py",
   "mimetype": "text/x-python",
   "name": "python",
   "nbconvert_exporter": "python",
   "pygments_lexer": "ipython3",
   "version": "3.8.17"
  }
 },
 "nbformat": 4,
 "nbformat_minor": 5
}
